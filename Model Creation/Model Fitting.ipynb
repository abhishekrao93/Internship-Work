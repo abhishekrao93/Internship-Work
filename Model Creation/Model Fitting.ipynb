{
 "cells": [
  {
   "cell_type": "code",
   "execution_count": 1,
   "metadata": {},
   "outputs": [],
   "source": [
    "import pandas as pd\n",
    "import numpy as np\n",
    "from sklearn.model_selection import train_test_split\n",
    "import xgboost as xgb\n",
    "from sklearn import svm\n",
    "from bayes_opt import BayesianOptimization\n",
    "from sklearn.metrics import classification_report,confusion_matrix\n",
    "from sklearn.preprocessing import MinMaxScaler\n",
    "from sklearn.metrics import roc_auc_score"
   ]
  },
  {
   "cell_type": "code",
   "execution_count": 2,
   "metadata": {},
   "outputs": [],
   "source": [
    "#!pip install xgboost\n",
    "#!pip install bayesian-optimization\n",
    "#!pip install -U scikit-learn\n",
    "#!pip install GPyOpt"
   ]
  },
  {
   "cell_type": "code",
   "execution_count": 3,
   "metadata": {},
   "outputs": [],
   "source": [
    "features = pd.read_csv('features.csv')"
   ]
  },
  {
   "cell_type": "code",
   "execution_count": 4,
   "metadata": {},
   "outputs": [
    {
     "data": {
      "text/html": [
       "<div>\n",
       "<style scoped>\n",
       "    .dataframe tbody tr th:only-of-type {\n",
       "        vertical-align: middle;\n",
       "    }\n",
       "\n",
       "    .dataframe tbody tr th {\n",
       "        vertical-align: top;\n",
       "    }\n",
       "\n",
       "    .dataframe thead th {\n",
       "        text-align: right;\n",
       "    }\n",
       "</style>\n",
       "<table border=\"1\" class=\"dataframe\">\n",
       "  <thead>\n",
       "    <tr style=\"text-align: right;\">\n",
       "      <th></th>\n",
       "      <th>thread_id</th>\n",
       "      <th>no_of_posts</th>\n",
       "      <th>no_of_comments</th>\n",
       "      <th>no_uni_users</th>\n",
       "      <th>no_of_anonymous_msg</th>\n",
       "      <th>staff_replied</th>\n",
       "      <th>no of msgs</th>\n",
       "      <th>avg_num_words</th>\n",
       "      <th>max_words</th>\n",
       "      <th>avg_resp_time</th>\n",
       "      <th>first_post_day</th>\n",
       "      <th>msg_rate</th>\n",
       "      <th>u_chain</th>\n",
       "      <th>index_longest_post</th>\n",
       "      <th>num_views</th>\n",
       "      <th>votes</th>\n",
       "      <th>votes_Square</th>\n",
       "      <th>index_max_votes</th>\n",
       "      <th>forum_id</th>\n",
       "    </tr>\n",
       "  </thead>\n",
       "  <tbody>\n",
       "    <tr>\n",
       "      <th>0</th>\n",
       "      <td>2</td>\n",
       "      <td>9.0</td>\n",
       "      <td>2.0</td>\n",
       "      <td>5.0</td>\n",
       "      <td>2.0</td>\n",
       "      <td>0.0</td>\n",
       "      <td>11.0</td>\n",
       "      <td>12.454545</td>\n",
       "      <td>31.0</td>\n",
       "      <td>-152871.727273</td>\n",
       "      <td>2</td>\n",
       "      <td>1.359260e+09</td>\n",
       "      <td>True</td>\n",
       "      <td>4</td>\n",
       "      <td>277</td>\n",
       "      <td>2</td>\n",
       "      <td>4</td>\n",
       "      <td>0</td>\n",
       "      <td>10</td>\n",
       "    </tr>\n",
       "    <tr>\n",
       "      <th>1</th>\n",
       "      <td>2</td>\n",
       "      <td>9.0</td>\n",
       "      <td>2.0</td>\n",
       "      <td>5.0</td>\n",
       "      <td>2.0</td>\n",
       "      <td>0.0</td>\n",
       "      <td>11.0</td>\n",
       "      <td>12.454545</td>\n",
       "      <td>31.0</td>\n",
       "      <td>-152871.727273</td>\n",
       "      <td>2</td>\n",
       "      <td>1.359260e+09</td>\n",
       "      <td>True</td>\n",
       "      <td>4</td>\n",
       "      <td>277</td>\n",
       "      <td>0</td>\n",
       "      <td>0</td>\n",
       "      <td>0</td>\n",
       "      <td>10</td>\n",
       "    </tr>\n",
       "    <tr>\n",
       "      <th>2</th>\n",
       "      <td>2</td>\n",
       "      <td>9.0</td>\n",
       "      <td>2.0</td>\n",
       "      <td>5.0</td>\n",
       "      <td>2.0</td>\n",
       "      <td>0.0</td>\n",
       "      <td>11.0</td>\n",
       "      <td>12.454545</td>\n",
       "      <td>31.0</td>\n",
       "      <td>-152871.727273</td>\n",
       "      <td>2</td>\n",
       "      <td>1.359260e+09</td>\n",
       "      <td>True</td>\n",
       "      <td>4</td>\n",
       "      <td>277</td>\n",
       "      <td>1</td>\n",
       "      <td>1</td>\n",
       "      <td>0</td>\n",
       "      <td>10</td>\n",
       "    </tr>\n",
       "    <tr>\n",
       "      <th>3</th>\n",
       "      <td>2</td>\n",
       "      <td>9.0</td>\n",
       "      <td>2.0</td>\n",
       "      <td>5.0</td>\n",
       "      <td>2.0</td>\n",
       "      <td>0.0</td>\n",
       "      <td>11.0</td>\n",
       "      <td>12.454545</td>\n",
       "      <td>31.0</td>\n",
       "      <td>-152871.727273</td>\n",
       "      <td>2</td>\n",
       "      <td>1.359260e+09</td>\n",
       "      <td>True</td>\n",
       "      <td>4</td>\n",
       "      <td>277</td>\n",
       "      <td>0</td>\n",
       "      <td>0</td>\n",
       "      <td>0</td>\n",
       "      <td>10</td>\n",
       "    </tr>\n",
       "    <tr>\n",
       "      <th>4</th>\n",
       "      <td>2</td>\n",
       "      <td>9.0</td>\n",
       "      <td>2.0</td>\n",
       "      <td>5.0</td>\n",
       "      <td>2.0</td>\n",
       "      <td>0.0</td>\n",
       "      <td>11.0</td>\n",
       "      <td>12.454545</td>\n",
       "      <td>31.0</td>\n",
       "      <td>-152871.727273</td>\n",
       "      <td>2</td>\n",
       "      <td>1.359260e+09</td>\n",
       "      <td>True</td>\n",
       "      <td>4</td>\n",
       "      <td>277</td>\n",
       "      <td>0</td>\n",
       "      <td>0</td>\n",
       "      <td>0</td>\n",
       "      <td>10</td>\n",
       "    </tr>\n",
       "  </tbody>\n",
       "</table>\n",
       "</div>"
      ],
      "text/plain": [
       "   thread_id  no_of_posts  no_of_comments  no_uni_users  no_of_anonymous_msg  \\\n",
       "0          2          9.0             2.0           5.0                  2.0   \n",
       "1          2          9.0             2.0           5.0                  2.0   \n",
       "2          2          9.0             2.0           5.0                  2.0   \n",
       "3          2          9.0             2.0           5.0                  2.0   \n",
       "4          2          9.0             2.0           5.0                  2.0   \n",
       "\n",
       "   staff_replied  no of msgs  avg_num_words  max_words  avg_resp_time  \\\n",
       "0            0.0        11.0      12.454545       31.0 -152871.727273   \n",
       "1            0.0        11.0      12.454545       31.0 -152871.727273   \n",
       "2            0.0        11.0      12.454545       31.0 -152871.727273   \n",
       "3            0.0        11.0      12.454545       31.0 -152871.727273   \n",
       "4            0.0        11.0      12.454545       31.0 -152871.727273   \n",
       "\n",
       "   first_post_day      msg_rate  u_chain  index_longest_post  num_views  \\\n",
       "0               2  1.359260e+09     True                   4        277   \n",
       "1               2  1.359260e+09     True                   4        277   \n",
       "2               2  1.359260e+09     True                   4        277   \n",
       "3               2  1.359260e+09     True                   4        277   \n",
       "4               2  1.359260e+09     True                   4        277   \n",
       "\n",
       "   votes  votes_Square  index_max_votes  forum_id  \n",
       "0      2             4                0        10  \n",
       "1      0             0                0        10  \n",
       "2      1             1                0        10  \n",
       "3      0             0                0        10  \n",
       "4      0             0                0        10  "
      ]
     },
     "execution_count": 4,
     "metadata": {},
     "output_type": "execute_result"
    }
   ],
   "source": [
    "features = features.drop('course_id',axis=1)\n",
    "features[:5]"
   ]
  },
  {
   "cell_type": "code",
   "execution_count": 5,
   "metadata": {},
   "outputs": [],
   "source": [
    "features[[\"u_chain\"]] *= 1"
   ]
  },
  {
   "cell_type": "code",
   "execution_count": 6,
   "metadata": {},
   "outputs": [
    {
     "data": {
      "text/html": [
       "<div>\n",
       "<style scoped>\n",
       "    .dataframe tbody tr th:only-of-type {\n",
       "        vertical-align: middle;\n",
       "    }\n",
       "\n",
       "    .dataframe tbody tr th {\n",
       "        vertical-align: top;\n",
       "    }\n",
       "\n",
       "    .dataframe thead th {\n",
       "        text-align: right;\n",
       "    }\n",
       "</style>\n",
       "<table border=\"1\" class=\"dataframe\">\n",
       "  <thead>\n",
       "    <tr style=\"text-align: right;\">\n",
       "      <th></th>\n",
       "      <th>thread_id</th>\n",
       "      <th>no_of_posts</th>\n",
       "      <th>no_of_comments</th>\n",
       "      <th>no_uni_users</th>\n",
       "      <th>no_of_anonymous_msg</th>\n",
       "      <th>staff_replied</th>\n",
       "      <th>no of msgs</th>\n",
       "      <th>avg_num_words</th>\n",
       "      <th>max_words</th>\n",
       "      <th>avg_resp_time</th>\n",
       "      <th>first_post_day</th>\n",
       "      <th>msg_rate</th>\n",
       "      <th>u_chain</th>\n",
       "      <th>index_longest_post</th>\n",
       "      <th>num_views</th>\n",
       "      <th>votes</th>\n",
       "      <th>votes_Square</th>\n",
       "      <th>index_max_votes</th>\n",
       "      <th>forum_id</th>\n",
       "    </tr>\n",
       "  </thead>\n",
       "  <tbody>\n",
       "    <tr>\n",
       "      <th>0</th>\n",
       "      <td>2</td>\n",
       "      <td>9.0</td>\n",
       "      <td>2.0</td>\n",
       "      <td>5.0</td>\n",
       "      <td>2.0</td>\n",
       "      <td>0.0</td>\n",
       "      <td>11.0</td>\n",
       "      <td>12.454545</td>\n",
       "      <td>31.0</td>\n",
       "      <td>-152871.727273</td>\n",
       "      <td>2</td>\n",
       "      <td>1.359260e+09</td>\n",
       "      <td>1</td>\n",
       "      <td>4</td>\n",
       "      <td>277</td>\n",
       "      <td>2</td>\n",
       "      <td>4</td>\n",
       "      <td>0</td>\n",
       "      <td>10</td>\n",
       "    </tr>\n",
       "    <tr>\n",
       "      <th>1</th>\n",
       "      <td>2</td>\n",
       "      <td>9.0</td>\n",
       "      <td>2.0</td>\n",
       "      <td>5.0</td>\n",
       "      <td>2.0</td>\n",
       "      <td>0.0</td>\n",
       "      <td>11.0</td>\n",
       "      <td>12.454545</td>\n",
       "      <td>31.0</td>\n",
       "      <td>-152871.727273</td>\n",
       "      <td>2</td>\n",
       "      <td>1.359260e+09</td>\n",
       "      <td>1</td>\n",
       "      <td>4</td>\n",
       "      <td>277</td>\n",
       "      <td>0</td>\n",
       "      <td>0</td>\n",
       "      <td>0</td>\n",
       "      <td>10</td>\n",
       "    </tr>\n",
       "    <tr>\n",
       "      <th>2</th>\n",
       "      <td>2</td>\n",
       "      <td>9.0</td>\n",
       "      <td>2.0</td>\n",
       "      <td>5.0</td>\n",
       "      <td>2.0</td>\n",
       "      <td>0.0</td>\n",
       "      <td>11.0</td>\n",
       "      <td>12.454545</td>\n",
       "      <td>31.0</td>\n",
       "      <td>-152871.727273</td>\n",
       "      <td>2</td>\n",
       "      <td>1.359260e+09</td>\n",
       "      <td>1</td>\n",
       "      <td>4</td>\n",
       "      <td>277</td>\n",
       "      <td>1</td>\n",
       "      <td>1</td>\n",
       "      <td>0</td>\n",
       "      <td>10</td>\n",
       "    </tr>\n",
       "    <tr>\n",
       "      <th>3</th>\n",
       "      <td>2</td>\n",
       "      <td>9.0</td>\n",
       "      <td>2.0</td>\n",
       "      <td>5.0</td>\n",
       "      <td>2.0</td>\n",
       "      <td>0.0</td>\n",
       "      <td>11.0</td>\n",
       "      <td>12.454545</td>\n",
       "      <td>31.0</td>\n",
       "      <td>-152871.727273</td>\n",
       "      <td>2</td>\n",
       "      <td>1.359260e+09</td>\n",
       "      <td>1</td>\n",
       "      <td>4</td>\n",
       "      <td>277</td>\n",
       "      <td>0</td>\n",
       "      <td>0</td>\n",
       "      <td>0</td>\n",
       "      <td>10</td>\n",
       "    </tr>\n",
       "    <tr>\n",
       "      <th>4</th>\n",
       "      <td>2</td>\n",
       "      <td>9.0</td>\n",
       "      <td>2.0</td>\n",
       "      <td>5.0</td>\n",
       "      <td>2.0</td>\n",
       "      <td>0.0</td>\n",
       "      <td>11.0</td>\n",
       "      <td>12.454545</td>\n",
       "      <td>31.0</td>\n",
       "      <td>-152871.727273</td>\n",
       "      <td>2</td>\n",
       "      <td>1.359260e+09</td>\n",
       "      <td>1</td>\n",
       "      <td>4</td>\n",
       "      <td>277</td>\n",
       "      <td>0</td>\n",
       "      <td>0</td>\n",
       "      <td>0</td>\n",
       "      <td>10</td>\n",
       "    </tr>\n",
       "  </tbody>\n",
       "</table>\n",
       "</div>"
      ],
      "text/plain": [
       "   thread_id  no_of_posts  no_of_comments  no_uni_users  no_of_anonymous_msg  \\\n",
       "0          2          9.0             2.0           5.0                  2.0   \n",
       "1          2          9.0             2.0           5.0                  2.0   \n",
       "2          2          9.0             2.0           5.0                  2.0   \n",
       "3          2          9.0             2.0           5.0                  2.0   \n",
       "4          2          9.0             2.0           5.0                  2.0   \n",
       "\n",
       "   staff_replied  no of msgs  avg_num_words  max_words  avg_resp_time  \\\n",
       "0            0.0        11.0      12.454545       31.0 -152871.727273   \n",
       "1            0.0        11.0      12.454545       31.0 -152871.727273   \n",
       "2            0.0        11.0      12.454545       31.0 -152871.727273   \n",
       "3            0.0        11.0      12.454545       31.0 -152871.727273   \n",
       "4            0.0        11.0      12.454545       31.0 -152871.727273   \n",
       "\n",
       "   first_post_day      msg_rate  u_chain  index_longest_post  num_views  \\\n",
       "0               2  1.359260e+09        1                   4        277   \n",
       "1               2  1.359260e+09        1                   4        277   \n",
       "2               2  1.359260e+09        1                   4        277   \n",
       "3               2  1.359260e+09        1                   4        277   \n",
       "4               2  1.359260e+09        1                   4        277   \n",
       "\n",
       "   votes  votes_Square  index_max_votes  forum_id  \n",
       "0      2             4                0        10  \n",
       "1      0             0                0        10  \n",
       "2      1             1                0        10  \n",
       "3      0             0                0        10  \n",
       "4      0             0                0        10  "
      ]
     },
     "execution_count": 6,
     "metadata": {},
     "output_type": "execute_result"
    }
   ],
   "source": [
    "features[:5]"
   ]
  },
  {
   "cell_type": "code",
   "execution_count": 7,
   "metadata": {},
   "outputs": [
    {
     "data": {
      "text/plain": [
       "(739074, 19)"
      ]
     },
     "execution_count": 7,
     "metadata": {},
     "output_type": "execute_result"
    }
   ],
   "source": [
    "features.shape"
   ]
  },
  {
   "cell_type": "markdown",
   "metadata": {},
   "source": [
    "## Randomly creating a new dataset with 5000 rows\n",
    "\n",
    "The value will be same for the selected random_state"
   ]
  },
  {
   "cell_type": "code",
   "execution_count": 74,
   "metadata": {},
   "outputs": [
    {
     "data": {
      "text/plain": [
       "(100000, 19)"
      ]
     },
     "execution_count": 74,
     "metadata": {},
     "output_type": "execute_result"
    }
   ],
   "source": [
    "features_scaled = features.sample(n=100000,random_state = 3)\n",
    "features_scaled.shape"
   ]
  },
  {
   "cell_type": "markdown",
   "metadata": {},
   "source": [
    "## Preparing the Data\n",
    "\n",
    "### forum_id \n",
    "    2: General (Miscellaneous) Discussion\n",
    "    3: Assignments\n",
    "    4: Study Groups / Meetups\n",
    "    7: Course Feedback / Suggestions\n",
    "    8: Lectures\n",
    "    9: Platform Issues\n",
    "    100: Signature Track\n",
    "    otherwise: not remapped"
   ]
  },
  {
   "cell_type": "code",
   "execution_count": 75,
   "metadata": {},
   "outputs": [],
   "source": [
    "X = features_scaled.drop('forum_id', axis=1)\n",
    "y = features_scaled['forum_id']"
   ]
  },
  {
   "cell_type": "code",
   "execution_count": 76,
   "metadata": {},
   "outputs": [
    {
     "name": "stdout",
     "output_type": "stream",
     "text": [
      "(100000, 18)\n"
     ]
    }
   ],
   "source": [
    "scaling = MinMaxScaler(feature_range=(-1,1)).fit(X)\n",
    "X_train_scaled = scaling.transform(X)\n",
    "print(X_train_scaled.shape)"
   ]
  },
  {
   "cell_type": "code",
   "execution_count": 77,
   "metadata": {},
   "outputs": [],
   "source": [
    "# 80% training and 20% test\n",
    "X_train, X_test, y_train, y_test = train_test_split(X_train_scaled,y, test_size=0.2,random_state=109) "
   ]
  },
  {
   "cell_type": "code",
   "execution_count": 78,
   "metadata": {},
   "outputs": [
    {
     "name": "stdout",
     "output_type": "stream",
     "text": [
      "(80000, 18)\n",
      "(20000, 18)\n",
      "(80000,)\n",
      "(20000,)\n"
     ]
    }
   ],
   "source": [
    "print(X_train.shape)\n",
    "print(X_test.shape)\n",
    "print(y_train.shape)\n",
    "print(y_test.shape)"
   ]
  },
  {
   "cell_type": "markdown",
   "metadata": {},
   "source": [
    "## SVM Model"
   ]
  },
  {
   "cell_type": "code",
   "execution_count": 13,
   "metadata": {},
   "outputs": [
    {
     "data": {
      "text/plain": [
       "SVC(cache_size=7000, kernel='linear', probability=True)"
      ]
     },
     "execution_count": 13,
     "metadata": {},
     "output_type": "execute_result"
    }
   ],
   "source": [
    "svm_model = svm.SVC(kernel='linear', C = 1.0,probability = True,cache_size=7000)\n",
    "svm_model.fit(X_train, y_train)"
   ]
  },
  {
   "cell_type": "code",
   "execution_count": 14,
   "metadata": {},
   "outputs": [],
   "source": [
    "y_pred_svm = svm_model.predict(X_test)"
   ]
  },
  {
   "cell_type": "markdown",
   "metadata": {},
   "source": [
    "###  Creating the Classification report"
   ]
  },
  {
   "cell_type": "code",
   "execution_count": 15,
   "metadata": {},
   "outputs": [
    {
     "name": "stdout",
     "output_type": "stream",
     "text": [
      "              precision    recall  f1-score   support\n",
      "\n",
      "           2       0.35      0.28      0.31      4657\n",
      "           3       0.38      0.90      0.54      5218\n",
      "           4       0.39      0.03      0.06      1690\n",
      "           7       0.00      0.00      0.00       525\n",
      "           8       0.49      0.08      0.14      3011\n",
      "           9       0.00      0.00      0.00       504\n",
      "          10       0.61      0.47      0.53      4395\n",
      "\n",
      "    accuracy                           0.42     20000\n",
      "   macro avg       0.32      0.25      0.23     20000\n",
      "weighted avg       0.42      0.42      0.36     20000\n",
      "\n"
     ]
    },
    {
     "name": "stderr",
     "output_type": "stream",
     "text": [
      "C:\\Users\\abhis\\Anaconda3\\lib\\site-packages\\sklearn\\metrics\\_classification.py:1221: UndefinedMetricWarning: Precision and F-score are ill-defined and being set to 0.0 in labels with no predicted samples. Use `zero_division` parameter to control this behavior.\n",
      "  _warn_prf(average, modifier, msg_start, len(result))\n"
     ]
    }
   ],
   "source": [
    "print(classification_report(y_test,y_pred_svm))"
   ]
  },
  {
   "cell_type": "markdown",
   "metadata": {},
   "source": [
    "###  Creating the confusion Matrix and checking the accuracy"
   ]
  },
  {
   "cell_type": "code",
   "execution_count": 16,
   "metadata": {},
   "outputs": [
    {
     "name": "stdout",
     "output_type": "stream",
     "text": [
      "[[1322 2720   55    0   53    0  507]\n",
      " [ 234 4674    0    0   63    0  247]\n",
      " [1056  457   59    0   54    0   64]\n",
      " [  60  384    0    0    6    0   75]\n",
      " [ 508 1885   11    0  245    0  362]\n",
      " [  36  407    0    0    4    0   57]\n",
      " [ 590 1644   27    0   73    0 2061]]\n"
     ]
    }
   ],
   "source": [
    "cm_svm = confusion_matrix(y_test, y_pred_svm)\n",
    "print(cm_svm)"
   ]
  },
  {
   "cell_type": "code",
   "execution_count": 17,
   "metadata": {},
   "outputs": [],
   "source": [
    "pred_prob = svm_model.predict_proba(X_test)"
   ]
  },
  {
   "cell_type": "code",
   "execution_count": 18,
   "metadata": {},
   "outputs": [
    {
     "name": "stdout",
     "output_type": "stream",
     "text": [
      "ROC-AUC = 0.71\n"
     ]
    }
   ],
   "source": [
    "auc_score = roc_auc_score(y_test, pred_prob, multi_class=\"ovo\",\n",
    "                                  average=\"macro\")\n",
    "print('ROC-AUC = %.2f'% auc_score)"
   ]
  },
  {
   "cell_type": "code",
   "execution_count": 19,
   "metadata": {},
   "outputs": [
    {
     "name": "stdout",
     "output_type": "stream",
     "text": [
      "Accuracy = 0.42\n"
     ]
    }
   ],
   "source": [
    "accuracy = cm_svm.diagonal().sum()/cm_svm.sum()\n",
    "print('Accuracy = %.2f'% accuracy)"
   ]
  },
  {
   "cell_type": "markdown",
   "metadata": {},
   "source": [
    "## XG Boost Model"
   ]
  },
  {
   "cell_type": "code",
   "execution_count": 20,
   "metadata": {},
   "outputs": [
    {
     "data": {
      "text/plain": [
       "XGBClassifier(base_score=0.5, booster='gbtree', colsample_bylevel=1,\n",
       "              colsample_bynode=1, colsample_bytree=1, gamma=0, gpu_id=-1,\n",
       "              importance_type='gain', interaction_constraints='',\n",
       "              learning_rate=0.300000012, max_delta_step=0, max_depth=6,\n",
       "              min_child_weight=1, missing=nan, monotone_constraints='()',\n",
       "              n_estimators=100, n_jobs=0, num_parallel_tree=1,\n",
       "              objective='multi:softprob', random_state=0, reg_alpha=0,\n",
       "              reg_lambda=1, scale_pos_weight=None, subsample=1,\n",
       "              tree_method='exact', validate_parameters=1, verbosity=None)"
      ]
     },
     "execution_count": 20,
     "metadata": {},
     "output_type": "execute_result"
    }
   ],
   "source": [
    "model = xgb.XGBClassifier()\n",
    "model.fit(X_train, y_train)"
   ]
  },
  {
   "cell_type": "code",
   "execution_count": 21,
   "metadata": {},
   "outputs": [],
   "source": [
    "y_pred = model.predict(X_test)"
   ]
  },
  {
   "cell_type": "markdown",
   "metadata": {},
   "source": [
    "###  Creating the Classification report"
   ]
  },
  {
   "cell_type": "code",
   "execution_count": 22,
   "metadata": {},
   "outputs": [
    {
     "name": "stdout",
     "output_type": "stream",
     "text": [
      "              precision    recall  f1-score   support\n",
      "\n",
      "           2       0.78      0.78      0.78      4657\n",
      "           3       0.78      0.90      0.83      5218\n",
      "           4       0.93      0.90      0.92      1690\n",
      "           7       0.81      0.37      0.51       525\n",
      "           8       0.76      0.70      0.73      3011\n",
      "           9       0.82      0.40      0.54       504\n",
      "          10       0.89      0.90      0.89      4395\n",
      "\n",
      "    accuracy                           0.81     20000\n",
      "   macro avg       0.82      0.71      0.74     20000\n",
      "weighted avg       0.82      0.81      0.81     20000\n",
      "\n"
     ]
    }
   ],
   "source": [
    "print(classification_report(y_test,y_pred))"
   ]
  },
  {
   "cell_type": "markdown",
   "metadata": {},
   "source": [
    "###  Creating the confusion Matrix and checking the accuracy"
   ]
  },
  {
   "cell_type": "code",
   "execution_count": 23,
   "metadata": {},
   "outputs": [
    {
     "name": "stdout",
     "output_type": "stream",
     "text": [
      "[[3628  557   52    8  268   16  128]\n",
      " [ 241 4686    7   11  166    5  102]\n",
      " [  67   14 1525    2   32    5   45]\n",
      " [  96  104    6  196   60    3   60]\n",
      " [ 350  410   14   10 2104   11  112]\n",
      " [  93   90   11    7   51  204   48]\n",
      " [ 156  158   23    9   89    5 3955]]\n"
     ]
    }
   ],
   "source": [
    "cm = confusion_matrix(y_test, y_pred)\n",
    "print(cm)"
   ]
  },
  {
   "cell_type": "code",
   "execution_count": 24,
   "metadata": {},
   "outputs": [
    {
     "name": "stdout",
     "output_type": "stream",
     "text": [
      "ROC-AUC = 0.96\n"
     ]
    }
   ],
   "source": [
    "pred_prob_xg = model.predict_proba(X_test)\n",
    "auc_score = roc_auc_score(y_test, pred_prob_xg, multi_class=\"ovo\",\n",
    "                                  average=\"macro\")\n",
    "print('ROC-AUC = %.2f'% auc_score)"
   ]
  },
  {
   "cell_type": "code",
   "execution_count": 25,
   "metadata": {},
   "outputs": [
    {
     "name": "stdout",
     "output_type": "stream",
     "text": [
      "Accuracy = 0.81\n"
     ]
    }
   ],
   "source": [
    "accuracy = cm.diagonal().sum()/cm.sum()\n",
    "print('Accuracy = %.2f'% accuracy)"
   ]
  },
  {
   "cell_type": "markdown",
   "metadata": {},
   "source": [
    "## Hyper Parameter Tuning on XGBoost\n",
    "\n",
    "Parameters:\n",
    "\n",
    "* learning_rate : Makes the model more robust by shrinking the weights on each step. Used to prevent overfitting.\n",
    "* max_depth  : Determines how deeply each tree is allowed to grow during any boosting round.Range should be between 3-10. For starting, start from lower values.\n",
    "* min_child_weight : Smaller values are chosen because leaf nodes could have small size groups.\n",
    "* subsample, colsample_bytree  : ideal range is between 0.5 to 0.9. Low value can lead to underfitting\n",
    "* n_estimators: number of trees you want to build.\n",
    "* objective: determines the loss function to be used like reg:linear for regression problems, reg:logistic for classification problems with only decision, binary:logistic for classification problems with probability.\n",
    "\n",
    "Regularization Parameters:\n",
    "* gamma: controls whether a given node will split based on the expected reduction in loss after the split. A higher value leads to fewer splits.\n",
    "* alpha: L1 regularization on leaf weights. A large value leads to more regularization.\n",
    "* lambda: L2 regularization on leaf weights and is smoother than L1 regularization."
   ]
  },
  {
   "cell_type": "markdown",
   "metadata": {},
   "source": [
    "### Bayesian Optimization function for xgboost"
   ]
  },
  {
   "cell_type": "code",
   "execution_count": 79,
   "metadata": {},
   "outputs": [],
   "source": [
    "def tuning_function(n_estimators ,learning_rate):\n",
    "     params = {'n_estimators': int(n_estimators),\n",
    "              'learning_rate':learning_rate,\n",
    "              'subsample': 0.8,\n",
    "              'eta': 0.1,\n",
    "              'eval_metric': 'rmse',\n",
    "             'max_depth':int(4),\n",
    "             'min_child_weight':6,\n",
    "             'gamma':0,\n",
    "             'subsample':0.8,\n",
    "             'colsample_bytree':0.8,\n",
    "             'reg_alpha':0.005,\n",
    "             'objective': 'logistic',\n",
    "             'nthread':4,\n",
    "             'seed':27,\n",
    "             'eta':0.1}"
   ]
  },
  {
   "cell_type": "code",
   "execution_count": 80,
   "metadata": {},
   "outputs": [],
   "source": [
    "bayes = BayesianOptimization(tuning_function, {'n_estimators':(500,1000),\n",
    "                                            'learning_rate':(0,0.5)\n",
    "                                            })\n"
   ]
  },
  {
   "cell_type": "code",
   "execution_count": 89,
   "metadata": {
    "scrolled": true
   },
   "outputs": [],
   "source": [
    "#bayes.maximize(n_iter=5)"
   ]
  },
  {
   "cell_type": "markdown",
   "metadata": {},
   "source": [
    "### Extracting the best parameters"
   ]
  },
  {
   "cell_type": "code",
   "execution_count": 82,
   "metadata": {},
   "outputs": [],
   "source": [
    "params = bayes.max['params']\n",
    "params['n_estimators']= int(params['n_estimators'])"
   ]
  },
  {
   "cell_type": "code",
   "execution_count": 83,
   "metadata": {},
   "outputs": [],
   "source": [
    "hyper_model = xgb.XGBClassifier(**params).fit(X_train, y_train)"
   ]
  },
  {
   "cell_type": "code",
   "execution_count": 84,
   "metadata": {},
   "outputs": [],
   "source": [
    "y_pred_HT = hyper_model.predict(X_test)"
   ]
  },
  {
   "cell_type": "markdown",
   "metadata": {},
   "source": [
    "###  Creating the Classification Report"
   ]
  },
  {
   "cell_type": "code",
   "execution_count": 85,
   "metadata": {},
   "outputs": [
    {
     "name": "stdout",
     "output_type": "stream",
     "text": [
      "              precision    recall  f1-score   support\n",
      "\n",
      "           2       0.86      0.89      0.87      4657\n",
      "           3       0.89      0.93      0.91      5218\n",
      "           4       0.96      0.94      0.95      1690\n",
      "           7       0.86      0.59      0.70       525\n",
      "           8       0.85      0.84      0.85      3011\n",
      "           9       0.87      0.60      0.71       504\n",
      "          10       0.93      0.94      0.93      4395\n",
      "\n",
      "    accuracy                           0.89     20000\n",
      "   macro avg       0.89      0.82      0.85     20000\n",
      "weighted avg       0.89      0.89      0.89     20000\n",
      "\n"
     ]
    }
   ],
   "source": [
    "print(classification_report(y_test,y_pred_HT))"
   ]
  },
  {
   "cell_type": "markdown",
   "metadata": {},
   "source": [
    "###  Creating the confusion Matrix and checking the accuracy"
   ]
  },
  {
   "cell_type": "code",
   "execution_count": 86,
   "metadata": {},
   "outputs": [
    {
     "name": "stdout",
     "output_type": "stream",
     "text": [
      "[[4156  212   27    7  167   11   77]\n",
      " [ 178 4848    3    8  119   11   51]\n",
      " [  39    5 1591    2   22    7   24]\n",
      " [  75   53    1  310   46    5   35]\n",
      " [ 232  163    6   11 2522    7   70]\n",
      " [  74   50    4    9   30  303   34]\n",
      " [ 105   87   24   14   48    4 4113]]\n"
     ]
    }
   ],
   "source": [
    "cm_hp = confusion_matrix(y_test, y_pred_HT)\n",
    "print(cm_hp)"
   ]
  },
  {
   "cell_type": "code",
   "execution_count": 87,
   "metadata": {},
   "outputs": [
    {
     "name": "stdout",
     "output_type": "stream",
     "text": [
      "ROC-AUC = 0.98\n"
     ]
    }
   ],
   "source": [
    "pred_prob_hyper = hyper_model.predict_proba(X_test)\n",
    "auc_score = roc_auc_score(y_test, pred_prob_hyper, multi_class=\"ovo\",\n",
    "                                  average=\"macro\")\n",
    "print('ROC-AUC = %.2f'% auc_score)"
   ]
  },
  {
   "cell_type": "code",
   "execution_count": 88,
   "metadata": {},
   "outputs": [
    {
     "name": "stdout",
     "output_type": "stream",
     "text": [
      "Accuracy = 0.89\n"
     ]
    }
   ],
   "source": [
    "accuracy = cm_hp.diagonal().sum()/cm_hp.sum()\n",
    "print('Accuracy = %.2f'% accuracy)"
   ]
  },
  {
   "cell_type": "markdown",
   "metadata": {},
   "source": [
    "#### Model is fitted for 5000 rows only\n",
    "#### From the XG Boost(Acc = 0.81) and the hyper tunes XGBoost(Acc = 0.89) accuracies, we can see that the accuracy of the model has increased.\n",
    "\n",
    "#### The Basic SVM Model has lowest accuracy which is 0.41 and we can see that there is a significant increase in accuracy once we use XG BOOST.\n",
    "\n",
    "#### We can see that there is a 40% increase in accuracy from the SVM model to the XGBoost model and around 48% increase in accuracy reaching 89% for hyper tuned XGBoost model"
   ]
  },
  {
   "cell_type": "markdown",
   "metadata": {},
   "source": [
    "## Fitting the XGBOOST and XGBOOST fine tuned model with original dataset."
   ]
  },
  {
   "cell_type": "code",
   "execution_count": 37,
   "metadata": {},
   "outputs": [
    {
     "name": "stdout",
     "output_type": "stream",
     "text": [
      "(591259, 18)\n",
      "(147815, 18)\n",
      "(591259,)\n",
      "(147815,)\n"
     ]
    }
   ],
   "source": [
    "X = features.drop('forum_id', axis=1)\n",
    "y = features['forum_id']\n",
    "X_train, X_test, y_train, y_test = train_test_split(X,y, test_size=0.2,random_state=109)\n",
    "print(X_train.shape)\n",
    "print(X_test.shape)\n",
    "print(y_train.shape)\n",
    "print(y_test.shape)"
   ]
  },
  {
   "cell_type": "markdown",
   "metadata": {},
   "source": [
    "### XGBOOST"
   ]
  },
  {
   "cell_type": "code",
   "execution_count": 38,
   "metadata": {},
   "outputs": [],
   "source": [
    "model = xgb.XGBClassifier()\n",
    "model.fit(X_train, y_train)\n",
    "y_pred = model.predict(X_test)"
   ]
  },
  {
   "cell_type": "code",
   "execution_count": 39,
   "metadata": {},
   "outputs": [
    {
     "name": "stdout",
     "output_type": "stream",
     "text": [
      "              precision    recall  f1-score   support\n",
      "\n",
      "           2       0.81      0.79      0.80     34537\n",
      "           3       0.79      0.91      0.85     38655\n",
      "           4       0.96      0.92      0.94     12593\n",
      "           7       0.91      0.44      0.60      3557\n",
      "           8       0.78      0.73      0.75     22237\n",
      "           9       0.87      0.48      0.62      3670\n",
      "          10       0.90      0.91      0.91     32566\n",
      "\n",
      "    accuracy                           0.83    147815\n",
      "   macro avg       0.86      0.74      0.78    147815\n",
      "weighted avg       0.84      0.83      0.83    147815\n",
      "\n"
     ]
    }
   ],
   "source": [
    "print(classification_report(y_test,y_pred))"
   ]
  },
  {
   "cell_type": "code",
   "execution_count": 40,
   "metadata": {},
   "outputs": [
    {
     "name": "stdout",
     "output_type": "stream",
     "text": [
      "[[27261  4139   237    27  1776    89  1008]\n",
      " [ 1544 35186    41    32  1112    35   705]\n",
      " [  386   111 11644     2   160     3   287]\n",
      " [  579   581    18  1574   445    42   318]\n",
      " [ 2376  2836    50    48 16166    73   688]\n",
      " [  604   572    36    19   317  1758   364]\n",
      " [  996  1026   153    22   627    14 29728]]\n"
     ]
    }
   ],
   "source": [
    "cm = confusion_matrix(y_test, y_pred)\n",
    "print(cm)"
   ]
  },
  {
   "cell_type": "code",
   "execution_count": 41,
   "metadata": {},
   "outputs": [
    {
     "name": "stdout",
     "output_type": "stream",
     "text": [
      "ROC-AUC = 0.97\n"
     ]
    }
   ],
   "source": [
    "pred_prob_xg = model.predict_proba(X_test)\n",
    "auc_score = roc_auc_score(y_test, pred_prob_xg, multi_class=\"ovo\",\n",
    "                                  average=\"macro\")\n",
    "print('ROC-AUC = %.2f'% auc_score)"
   ]
  },
  {
   "cell_type": "code",
   "execution_count": 42,
   "metadata": {},
   "outputs": [
    {
     "name": "stdout",
     "output_type": "stream",
     "text": [
      "Accuracy = 0.83\n"
     ]
    }
   ],
   "source": [
    "accuracy = cm.diagonal().sum()/cm.sum()\n",
    "print('Accuracy = %.2f'% accuracy)"
   ]
  },
  {
   "cell_type": "markdown",
   "metadata": {},
   "source": [
    "### Bayesian Hypertuned XGBOOST model"
   ]
  },
  {
   "cell_type": "code",
   "execution_count": 69,
   "metadata": {},
   "outputs": [],
   "source": [
    "hyper_model = xgb.XGBClassifier(**params).fit(X_train, y_train)\n",
    "y_pred_HT = hyper_model.predict(X_test)"
   ]
  },
  {
   "cell_type": "code",
   "execution_count": 70,
   "metadata": {},
   "outputs": [
    {
     "name": "stdout",
     "output_type": "stream",
     "text": [
      "              precision    recall  f1-score   support\n",
      "\n",
      "           2       0.96      0.96      0.96     34537\n",
      "           3       0.96      0.98      0.97     38655\n",
      "           4       0.99      0.98      0.99     12593\n",
      "           7       0.98      0.91      0.94      3557\n",
      "           8       0.96      0.95      0.96     22237\n",
      "           9       0.97      0.90      0.94      3670\n",
      "          10       0.98      0.98      0.98     32566\n",
      "\n",
      "    accuracy                           0.97    147815\n",
      "   macro avg       0.97      0.95      0.96    147815\n",
      "weighted avg       0.97      0.97      0.97    147815\n",
      "\n"
     ]
    }
   ],
   "source": [
    "print(classification_report(y_test,y_pred_HT))"
   ]
  },
  {
   "cell_type": "code",
   "execution_count": 71,
   "metadata": {},
   "outputs": [
    {
     "name": "stdout",
     "output_type": "stream",
     "text": [
      "[[33198   700    20    18   378    44   179]\n",
      " [  372 37930    13    15   204    14   107]\n",
      " [   82    14 12395     2    28     3    69]\n",
      " [  117    71     4  3250    48     8    59]\n",
      " [  521   450     6    17 21094     9   140]\n",
      " [  133    80     6    17    53  3315    66]\n",
      " [  226   151    27     7   109     9 32037]]\n"
     ]
    }
   ],
   "source": [
    "cm_hp = confusion_matrix(y_test, y_pred_HT)\n",
    "print(cm_hp)"
   ]
  },
  {
   "cell_type": "code",
   "execution_count": 72,
   "metadata": {},
   "outputs": [
    {
     "name": "stdout",
     "output_type": "stream",
     "text": [
      "ROC-AUC = 1.00\n"
     ]
    }
   ],
   "source": [
    "pred_prob_hyper = hyper_model.predict_proba(X_test)\n",
    "auc_score = roc_auc_score(y_test, pred_prob_hyper, multi_class=\"ovo\",\n",
    "                                  average=\"macro\")\n",
    "print('ROC-AUC = %.2f'% auc_score)"
   ]
  },
  {
   "cell_type": "code",
   "execution_count": 73,
   "metadata": {},
   "outputs": [
    {
     "name": "stdout",
     "output_type": "stream",
     "text": [
      "Accuracy = 0.97\n"
     ]
    }
   ],
   "source": [
    "accuracy = cm_hp.diagonal().sum()/cm_hp.sum()\n",
    "print('Accuracy = %.2f'% accuracy)"
   ]
  },
  {
   "cell_type": "markdown",
   "metadata": {},
   "source": [
    "## Implemented XGBoost on and Hyper tuned model on the full dataset.\n",
    "\n",
    "##### We can see that there is considerable increase in the Accuracy as compared to the fitted models with only 100k rows in the dataset\n",
    "\n",
    "##### Also, the hypertuned model has accuracy 0.83 while the normal XGBoost model has accuracy 0.97 and this shows a 14% increase in accuracy just by hypertuning"
   ]
  },
  {
   "cell_type": "markdown",
   "metadata": {},
   "source": [
    "# Conclusion\n",
    "\n",
    "From the below table, we can see that the hypertuned model of the full dataset has the highest accuracy of 97% and the roc-auc score is 1 which is very good. Hence, it is the best model.\n",
    "\n",
    "<table>\n",
    "  <thead>\n",
    "    <tr>\n",
    "      <th>Model</th>\n",
    "      <th>Accuracy</th>\n",
    "      <th>AUC-ROC</th>\n",
    "      <th>Average Precision</th>\n",
    "    </tr>\n",
    "  </thead>\n",
    "  <tbody>\n",
    "    <tr>\n",
    "      <td>SVM Model</td>\n",
    "      <td>42%</td>\n",
    "      <td>0.71</td>\n",
    "      <td>0.32</td>\n",
    "    </tr>\n",
    "    <tr>\n",
    "      <td>XGBOOST Model(small Dataset)</td>\n",
    "      <td>81%</td>\n",
    "      <td>0.96</td>\n",
    "      <td>0.82</td>\n",
    "    </tr><tr>\n",
    "      <td>XGBOOST Hyper tuned Model(small Dataset)</td>\n",
    "      <td>89%</td>\n",
    "      <td>0.98</td>\n",
    "      <td>0.89</td>\n",
    "    </tr><tr>\n",
    "      <td>XGBOOST Model</td>\n",
    "      <td>83%</td>\n",
    "      <td>0.97</td>\n",
    "      <td>0.86</td>\n",
    "    </tr><tr>\n",
    "      <td>XGBOOST Hyper tuned Model</td>\n",
    "      <td>97%</td>\n",
    "      <td>1.00</td>\n",
    "      <td>0.97</td>\n",
    "    </tr>\n",
    "  </tbody>\n",
    "</table>"
   ]
  },
  {
   "cell_type": "code",
   "execution_count": null,
   "metadata": {},
   "outputs": [],
   "source": []
  }
 ],
 "metadata": {
  "kernelspec": {
   "display_name": "Python 3",
   "language": "python",
   "name": "python3"
  },
  "language_info": {
   "codemirror_mode": {
    "name": "ipython",
    "version": 3
   },
   "file_extension": ".py",
   "mimetype": "text/x-python",
   "name": "python",
   "nbconvert_exporter": "python",
   "pygments_lexer": "ipython3",
   "version": "3.7.3"
  }
 },
 "nbformat": 4,
 "nbformat_minor": 2
}
