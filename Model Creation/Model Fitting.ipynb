{
 "cells": [
  {
   "cell_type": "code",
   "execution_count": 9,
   "metadata": {},
   "outputs": [],
   "source": [
    "import pandas as pd\n",
    "import numpy as np\n",
    "from sklearn.model_selection import train_test_split\n",
    "import xgboost as xgb\n",
    "from sklearn import svm\n",
    "from bayes_opt import BayesianOptimization"
   ]
  },
  {
   "cell_type": "code",
   "execution_count": 10,
   "metadata": {},
   "outputs": [],
   "source": [
    "#!pip install xgboost\n",
    "#!pip install bayesian-optimization"
   ]
  },
  {
   "cell_type": "code",
   "execution_count": 11,
   "metadata": {},
   "outputs": [],
   "source": [
    "features = pd.read_csv('features.csv')"
   ]
  },
  {
   "cell_type": "code",
   "execution_count": 12,
   "metadata": {},
   "outputs": [
    {
     "data": {
      "text/html": [
       "<div>\n",
       "<style scoped>\n",
       "    .dataframe tbody tr th:only-of-type {\n",
       "        vertical-align: middle;\n",
       "    }\n",
       "\n",
       "    .dataframe tbody tr th {\n",
       "        vertical-align: top;\n",
       "    }\n",
       "\n",
       "    .dataframe thead th {\n",
       "        text-align: right;\n",
       "    }\n",
       "</style>\n",
       "<table border=\"1\" class=\"dataframe\">\n",
       "  <thead>\n",
       "    <tr style=\"text-align: right;\">\n",
       "      <th></th>\n",
       "      <th>thread_id</th>\n",
       "      <th>no_of_posts</th>\n",
       "      <th>no_of_comments</th>\n",
       "      <th>no_uni_users</th>\n",
       "      <th>no_of_anonymous_msg</th>\n",
       "      <th>staff_replied</th>\n",
       "      <th>no of msgs</th>\n",
       "      <th>avg_num_words</th>\n",
       "      <th>max_words</th>\n",
       "      <th>avg_resp_time</th>\n",
       "      <th>first_post_day</th>\n",
       "      <th>msg_rate</th>\n",
       "      <th>u_chain</th>\n",
       "      <th>index_longest_post</th>\n",
       "      <th>num_views</th>\n",
       "      <th>votes</th>\n",
       "      <th>votes_Square</th>\n",
       "      <th>index_max_votes</th>\n",
       "      <th>forum_id</th>\n",
       "    </tr>\n",
       "  </thead>\n",
       "  <tbody>\n",
       "    <tr>\n",
       "      <th>0</th>\n",
       "      <td>2</td>\n",
       "      <td>9.0</td>\n",
       "      <td>2.0</td>\n",
       "      <td>5.0</td>\n",
       "      <td>2.0</td>\n",
       "      <td>0.0</td>\n",
       "      <td>11.0</td>\n",
       "      <td>12.454545</td>\n",
       "      <td>31.0</td>\n",
       "      <td>-152871.727273</td>\n",
       "      <td>2</td>\n",
       "      <td>1.359260e+09</td>\n",
       "      <td>True</td>\n",
       "      <td>4</td>\n",
       "      <td>277</td>\n",
       "      <td>2</td>\n",
       "      <td>4</td>\n",
       "      <td>0</td>\n",
       "      <td>10</td>\n",
       "    </tr>\n",
       "    <tr>\n",
       "      <th>1</th>\n",
       "      <td>2</td>\n",
       "      <td>9.0</td>\n",
       "      <td>2.0</td>\n",
       "      <td>5.0</td>\n",
       "      <td>2.0</td>\n",
       "      <td>0.0</td>\n",
       "      <td>11.0</td>\n",
       "      <td>12.454545</td>\n",
       "      <td>31.0</td>\n",
       "      <td>-152871.727273</td>\n",
       "      <td>2</td>\n",
       "      <td>1.359260e+09</td>\n",
       "      <td>True</td>\n",
       "      <td>4</td>\n",
       "      <td>277</td>\n",
       "      <td>0</td>\n",
       "      <td>0</td>\n",
       "      <td>0</td>\n",
       "      <td>10</td>\n",
       "    </tr>\n",
       "    <tr>\n",
       "      <th>2</th>\n",
       "      <td>2</td>\n",
       "      <td>9.0</td>\n",
       "      <td>2.0</td>\n",
       "      <td>5.0</td>\n",
       "      <td>2.0</td>\n",
       "      <td>0.0</td>\n",
       "      <td>11.0</td>\n",
       "      <td>12.454545</td>\n",
       "      <td>31.0</td>\n",
       "      <td>-152871.727273</td>\n",
       "      <td>2</td>\n",
       "      <td>1.359260e+09</td>\n",
       "      <td>True</td>\n",
       "      <td>4</td>\n",
       "      <td>277</td>\n",
       "      <td>1</td>\n",
       "      <td>1</td>\n",
       "      <td>0</td>\n",
       "      <td>10</td>\n",
       "    </tr>\n",
       "    <tr>\n",
       "      <th>3</th>\n",
       "      <td>2</td>\n",
       "      <td>9.0</td>\n",
       "      <td>2.0</td>\n",
       "      <td>5.0</td>\n",
       "      <td>2.0</td>\n",
       "      <td>0.0</td>\n",
       "      <td>11.0</td>\n",
       "      <td>12.454545</td>\n",
       "      <td>31.0</td>\n",
       "      <td>-152871.727273</td>\n",
       "      <td>2</td>\n",
       "      <td>1.359260e+09</td>\n",
       "      <td>True</td>\n",
       "      <td>4</td>\n",
       "      <td>277</td>\n",
       "      <td>0</td>\n",
       "      <td>0</td>\n",
       "      <td>0</td>\n",
       "      <td>10</td>\n",
       "    </tr>\n",
       "    <tr>\n",
       "      <th>4</th>\n",
       "      <td>2</td>\n",
       "      <td>9.0</td>\n",
       "      <td>2.0</td>\n",
       "      <td>5.0</td>\n",
       "      <td>2.0</td>\n",
       "      <td>0.0</td>\n",
       "      <td>11.0</td>\n",
       "      <td>12.454545</td>\n",
       "      <td>31.0</td>\n",
       "      <td>-152871.727273</td>\n",
       "      <td>2</td>\n",
       "      <td>1.359260e+09</td>\n",
       "      <td>True</td>\n",
       "      <td>4</td>\n",
       "      <td>277</td>\n",
       "      <td>0</td>\n",
       "      <td>0</td>\n",
       "      <td>0</td>\n",
       "      <td>10</td>\n",
       "    </tr>\n",
       "  </tbody>\n",
       "</table>\n",
       "</div>"
      ],
      "text/plain": [
       "   thread_id  no_of_posts  no_of_comments  no_uni_users  no_of_anonymous_msg  \\\n",
       "0          2          9.0             2.0           5.0                  2.0   \n",
       "1          2          9.0             2.0           5.0                  2.0   \n",
       "2          2          9.0             2.0           5.0                  2.0   \n",
       "3          2          9.0             2.0           5.0                  2.0   \n",
       "4          2          9.0             2.0           5.0                  2.0   \n",
       "\n",
       "   staff_replied  no of msgs  avg_num_words  max_words  avg_resp_time  \\\n",
       "0            0.0        11.0      12.454545       31.0 -152871.727273   \n",
       "1            0.0        11.0      12.454545       31.0 -152871.727273   \n",
       "2            0.0        11.0      12.454545       31.0 -152871.727273   \n",
       "3            0.0        11.0      12.454545       31.0 -152871.727273   \n",
       "4            0.0        11.0      12.454545       31.0 -152871.727273   \n",
       "\n",
       "   first_post_day      msg_rate  u_chain  index_longest_post  num_views  \\\n",
       "0               2  1.359260e+09     True                   4        277   \n",
       "1               2  1.359260e+09     True                   4        277   \n",
       "2               2  1.359260e+09     True                   4        277   \n",
       "3               2  1.359260e+09     True                   4        277   \n",
       "4               2  1.359260e+09     True                   4        277   \n",
       "\n",
       "   votes  votes_Square  index_max_votes  forum_id  \n",
       "0      2             4                0        10  \n",
       "1      0             0                0        10  \n",
       "2      1             1                0        10  \n",
       "3      0             0                0        10  \n",
       "4      0             0                0        10  "
      ]
     },
     "execution_count": 12,
     "metadata": {},
     "output_type": "execute_result"
    }
   ],
   "source": [
    "features = features.drop('course_id',axis=1)\n",
    "features[:5]"
   ]
  },
  {
   "cell_type": "code",
   "execution_count": 13,
   "metadata": {},
   "outputs": [],
   "source": [
    "features[[\"u_chain\"]] *= 1"
   ]
  },
  {
   "cell_type": "code",
   "execution_count": 14,
   "metadata": {},
   "outputs": [
    {
     "data": {
      "text/html": [
       "<div>\n",
       "<style scoped>\n",
       "    .dataframe tbody tr th:only-of-type {\n",
       "        vertical-align: middle;\n",
       "    }\n",
       "\n",
       "    .dataframe tbody tr th {\n",
       "        vertical-align: top;\n",
       "    }\n",
       "\n",
       "    .dataframe thead th {\n",
       "        text-align: right;\n",
       "    }\n",
       "</style>\n",
       "<table border=\"1\" class=\"dataframe\">\n",
       "  <thead>\n",
       "    <tr style=\"text-align: right;\">\n",
       "      <th></th>\n",
       "      <th>thread_id</th>\n",
       "      <th>no_of_posts</th>\n",
       "      <th>no_of_comments</th>\n",
       "      <th>no_uni_users</th>\n",
       "      <th>no_of_anonymous_msg</th>\n",
       "      <th>staff_replied</th>\n",
       "      <th>no of msgs</th>\n",
       "      <th>avg_num_words</th>\n",
       "      <th>max_words</th>\n",
       "      <th>avg_resp_time</th>\n",
       "      <th>first_post_day</th>\n",
       "      <th>msg_rate</th>\n",
       "      <th>u_chain</th>\n",
       "      <th>index_longest_post</th>\n",
       "      <th>num_views</th>\n",
       "      <th>votes</th>\n",
       "      <th>votes_Square</th>\n",
       "      <th>index_max_votes</th>\n",
       "      <th>forum_id</th>\n",
       "    </tr>\n",
       "  </thead>\n",
       "  <tbody>\n",
       "    <tr>\n",
       "      <th>0</th>\n",
       "      <td>2</td>\n",
       "      <td>9.0</td>\n",
       "      <td>2.0</td>\n",
       "      <td>5.0</td>\n",
       "      <td>2.0</td>\n",
       "      <td>0.0</td>\n",
       "      <td>11.0</td>\n",
       "      <td>12.454545</td>\n",
       "      <td>31.0</td>\n",
       "      <td>-152871.727273</td>\n",
       "      <td>2</td>\n",
       "      <td>1.359260e+09</td>\n",
       "      <td>1</td>\n",
       "      <td>4</td>\n",
       "      <td>277</td>\n",
       "      <td>2</td>\n",
       "      <td>4</td>\n",
       "      <td>0</td>\n",
       "      <td>10</td>\n",
       "    </tr>\n",
       "    <tr>\n",
       "      <th>1</th>\n",
       "      <td>2</td>\n",
       "      <td>9.0</td>\n",
       "      <td>2.0</td>\n",
       "      <td>5.0</td>\n",
       "      <td>2.0</td>\n",
       "      <td>0.0</td>\n",
       "      <td>11.0</td>\n",
       "      <td>12.454545</td>\n",
       "      <td>31.0</td>\n",
       "      <td>-152871.727273</td>\n",
       "      <td>2</td>\n",
       "      <td>1.359260e+09</td>\n",
       "      <td>1</td>\n",
       "      <td>4</td>\n",
       "      <td>277</td>\n",
       "      <td>0</td>\n",
       "      <td>0</td>\n",
       "      <td>0</td>\n",
       "      <td>10</td>\n",
       "    </tr>\n",
       "    <tr>\n",
       "      <th>2</th>\n",
       "      <td>2</td>\n",
       "      <td>9.0</td>\n",
       "      <td>2.0</td>\n",
       "      <td>5.0</td>\n",
       "      <td>2.0</td>\n",
       "      <td>0.0</td>\n",
       "      <td>11.0</td>\n",
       "      <td>12.454545</td>\n",
       "      <td>31.0</td>\n",
       "      <td>-152871.727273</td>\n",
       "      <td>2</td>\n",
       "      <td>1.359260e+09</td>\n",
       "      <td>1</td>\n",
       "      <td>4</td>\n",
       "      <td>277</td>\n",
       "      <td>1</td>\n",
       "      <td>1</td>\n",
       "      <td>0</td>\n",
       "      <td>10</td>\n",
       "    </tr>\n",
       "    <tr>\n",
       "      <th>3</th>\n",
       "      <td>2</td>\n",
       "      <td>9.0</td>\n",
       "      <td>2.0</td>\n",
       "      <td>5.0</td>\n",
       "      <td>2.0</td>\n",
       "      <td>0.0</td>\n",
       "      <td>11.0</td>\n",
       "      <td>12.454545</td>\n",
       "      <td>31.0</td>\n",
       "      <td>-152871.727273</td>\n",
       "      <td>2</td>\n",
       "      <td>1.359260e+09</td>\n",
       "      <td>1</td>\n",
       "      <td>4</td>\n",
       "      <td>277</td>\n",
       "      <td>0</td>\n",
       "      <td>0</td>\n",
       "      <td>0</td>\n",
       "      <td>10</td>\n",
       "    </tr>\n",
       "    <tr>\n",
       "      <th>4</th>\n",
       "      <td>2</td>\n",
       "      <td>9.0</td>\n",
       "      <td>2.0</td>\n",
       "      <td>5.0</td>\n",
       "      <td>2.0</td>\n",
       "      <td>0.0</td>\n",
       "      <td>11.0</td>\n",
       "      <td>12.454545</td>\n",
       "      <td>31.0</td>\n",
       "      <td>-152871.727273</td>\n",
       "      <td>2</td>\n",
       "      <td>1.359260e+09</td>\n",
       "      <td>1</td>\n",
       "      <td>4</td>\n",
       "      <td>277</td>\n",
       "      <td>0</td>\n",
       "      <td>0</td>\n",
       "      <td>0</td>\n",
       "      <td>10</td>\n",
       "    </tr>\n",
       "  </tbody>\n",
       "</table>\n",
       "</div>"
      ],
      "text/plain": [
       "   thread_id  no_of_posts  no_of_comments  no_uni_users  no_of_anonymous_msg  \\\n",
       "0          2          9.0             2.0           5.0                  2.0   \n",
       "1          2          9.0             2.0           5.0                  2.0   \n",
       "2          2          9.0             2.0           5.0                  2.0   \n",
       "3          2          9.0             2.0           5.0                  2.0   \n",
       "4          2          9.0             2.0           5.0                  2.0   \n",
       "\n",
       "   staff_replied  no of msgs  avg_num_words  max_words  avg_resp_time  \\\n",
       "0            0.0        11.0      12.454545       31.0 -152871.727273   \n",
       "1            0.0        11.0      12.454545       31.0 -152871.727273   \n",
       "2            0.0        11.0      12.454545       31.0 -152871.727273   \n",
       "3            0.0        11.0      12.454545       31.0 -152871.727273   \n",
       "4            0.0        11.0      12.454545       31.0 -152871.727273   \n",
       "\n",
       "   first_post_day      msg_rate  u_chain  index_longest_post  num_views  \\\n",
       "0               2  1.359260e+09        1                   4        277   \n",
       "1               2  1.359260e+09        1                   4        277   \n",
       "2               2  1.359260e+09        1                   4        277   \n",
       "3               2  1.359260e+09        1                   4        277   \n",
       "4               2  1.359260e+09        1                   4        277   \n",
       "\n",
       "   votes  votes_Square  index_max_votes  forum_id  \n",
       "0      2             4                0        10  \n",
       "1      0             0                0        10  \n",
       "2      1             1                0        10  \n",
       "3      0             0                0        10  \n",
       "4      0             0                0        10  "
      ]
     },
     "execution_count": 14,
     "metadata": {},
     "output_type": "execute_result"
    }
   ],
   "source": [
    "features[:5]"
   ]
  },
  {
   "cell_type": "markdown",
   "metadata": {},
   "source": [
    "## Preparing the Data\n",
    "\n",
    "### forum_id \n",
    "    2: General (Miscellaneous) Discussion\n",
    "    3: Assignments\n",
    "    4: Study Groups / Meetups\n",
    "    7: Course Feedback / Suggestions\n",
    "    8: Lectures\n",
    "    9: Platform Issues\n",
    "    100: Signature Track\n",
    "    otherwise: not remapped"
   ]
  },
  {
   "cell_type": "code",
   "execution_count": 15,
   "metadata": {},
   "outputs": [],
   "source": [
    "X = features.drop('forum_id', axis=1)\n",
    "y = features['forum_id']"
   ]
  },
  {
   "cell_type": "code",
   "execution_count": 16,
   "metadata": {},
   "outputs": [],
   "source": [
    "# 70% training and 30% test\n",
    "X_train, X_test, y_train, y_test = train_test_split(X,y, test_size=0.2,random_state=109) "
   ]
  },
  {
   "cell_type": "code",
   "execution_count": 17,
   "metadata": {},
   "outputs": [
    {
     "name": "stdout",
     "output_type": "stream",
     "text": [
      "(591259, 18)\n",
      "(147815, 18)\n",
      "(591259,)\n",
      "(147815,)\n"
     ]
    }
   ],
   "source": [
    "print(X_train.shape)\n",
    "print(X_test.shape)\n",
    "print(y_train.shape)\n",
    "print(y_test.shape)"
   ]
  },
  {
   "cell_type": "markdown",
   "metadata": {},
   "source": [
    "## SVM Model"
   ]
  },
  {
   "cell_type": "code",
   "execution_count": 18,
   "metadata": {},
   "outputs": [
    {
     "data": {
      "text/plain": [
       "'from sklearn.preprocessing import MinMaxScaler\\nscaling = MinMaxScaler(feature_range=(-1,1)).fit(X_train)\\nX_train_scaled = scaling.transform(X_train)\\nX_test_scaled = scaling.transform(X_test)'"
      ]
     },
     "execution_count": 18,
     "metadata": {},
     "output_type": "execute_result"
    }
   ],
   "source": [
    "'''from sklearn.preprocessing import MinMaxScaler\n",
    "scaling = MinMaxScaler(feature_range=(-1,1)).fit(X_train)\n",
    "X_train_scaled = scaling.transform(X_train)\n",
    "X_test_scaled = scaling.transform(X_test)'''"
   ]
  },
  {
   "cell_type": "code",
   "execution_count": 19,
   "metadata": {},
   "outputs": [
    {
     "data": {
      "text/plain": [
       "\"svm_model = svm.SVC(kernel='linear', C = 1.0)\\nsvm_model.fit(X_train_scaled, y_train)\""
      ]
     },
     "execution_count": 19,
     "metadata": {},
     "output_type": "execute_result"
    }
   ],
   "source": [
    "'''svm_model = svm.SVC(kernel='linear', C = 1.0)\n",
    "svm_model.fit(X_train_scaled, y_train)'''"
   ]
  },
  {
   "cell_type": "code",
   "execution_count": 20,
   "metadata": {},
   "outputs": [
    {
     "data": {
      "text/plain": [
       "'y_pred_svm = model.predict(X_test_scaled)'"
      ]
     },
     "execution_count": 20,
     "metadata": {},
     "output_type": "execute_result"
    }
   ],
   "source": [
    "'''y_pred_svm = model.predict(X_test_scaled)'''"
   ]
  },
  {
   "cell_type": "code",
   "execution_count": 21,
   "metadata": {},
   "outputs": [
    {
     "data": {
      "text/plain": [
       "'from sklearn.metrics import classification_report\\nprint(classification_report(y_test,y_pred_svm))'"
      ]
     },
     "execution_count": 21,
     "metadata": {},
     "output_type": "execute_result"
    }
   ],
   "source": [
    "'''from sklearn.metrics import classification_report\n",
    "print(classification_report(y_test,y_pred_svm))'''"
   ]
  },
  {
   "cell_type": "markdown",
   "metadata": {},
   "source": [
    "## XG Boost Model"
   ]
  },
  {
   "cell_type": "code",
   "execution_count": 23,
   "metadata": {},
   "outputs": [
    {
     "data": {
      "text/plain": [
       "XGBClassifier(base_score=0.5, booster='gbtree', colsample_bylevel=1,\n",
       "              colsample_bynode=1, colsample_bytree=1, gamma=0, gpu_id=-1,\n",
       "              importance_type='gain', interaction_constraints='',\n",
       "              learning_rate=0.300000012, max_delta_step=0, max_depth=6,\n",
       "              min_child_weight=1, missing=nan, monotone_constraints='()',\n",
       "              n_estimators=100, n_jobs=0, num_parallel_tree=1,\n",
       "              objective='multi:softprob', random_state=0, reg_alpha=0,\n",
       "              reg_lambda=1, scale_pos_weight=None, subsample=1,\n",
       "              tree_method='exact', validate_parameters=1, verbosity=None)"
      ]
     },
     "execution_count": 23,
     "metadata": {},
     "output_type": "execute_result"
    }
   ],
   "source": [
    "model = xgb.XGBClassifier()\n",
    "model.fit(X_train, y_train)"
   ]
  },
  {
   "cell_type": "code",
   "execution_count": 24,
   "metadata": {},
   "outputs": [],
   "source": [
    "y_pred = model.predict(X_test)"
   ]
  },
  {
   "cell_type": "markdown",
   "metadata": {},
   "source": [
    "###  Creating the Classificationreport"
   ]
  },
  {
   "cell_type": "code",
   "execution_count": 48,
   "metadata": {},
   "outputs": [
    {
     "name": "stdout",
     "output_type": "stream",
     "text": [
      "              precision    recall  f1-score   support\n",
      "\n",
      "           2       0.81      0.79      0.80     34537\n",
      "           3       0.79      0.91      0.85     38655\n",
      "           4       0.96      0.92      0.94     12593\n",
      "           7       0.91      0.44      0.60      3557\n",
      "           8       0.78      0.73      0.75     22237\n",
      "           9       0.87      0.48      0.62      3670\n",
      "          10       0.90      0.91      0.91     32566\n",
      "\n",
      "    accuracy                           0.83    147815\n",
      "   macro avg       0.86      0.74      0.78    147815\n",
      "weighted avg       0.84      0.83      0.83    147815\n",
      "\n"
     ]
    }
   ],
   "source": [
    "from sklearn.metrics import classification_report,confusion_matrix\n",
    "print(classification_report(y_test,y_pred))"
   ]
  },
  {
   "cell_type": "markdown",
   "metadata": {},
   "source": [
    "###  Creating the confusion Matrix and checking the accuracy"
   ]
  },
  {
   "cell_type": "code",
   "execution_count": 51,
   "metadata": {},
   "outputs": [
    {
     "name": "stdout",
     "output_type": "stream",
     "text": [
      "[[27261  4139   237    27  1776    89  1008]\n",
      " [ 1544 35186    41    32  1112    35   705]\n",
      " [  386   111 11644     2   160     3   287]\n",
      " [  579   581    18  1574   445    42   318]\n",
      " [ 2376  2836    50    48 16166    73   688]\n",
      " [  604   572    36    19   317  1758   364]\n",
      " [  996  1026   153    22   627    14 29728]]\n"
     ]
    }
   ],
   "source": [
    "cm = confusion_matrix(y_test, y_pred)\n",
    "print(cm)"
   ]
  },
  {
   "cell_type": "code",
   "execution_count": 50,
   "metadata": {},
   "outputs": [
    {
     "name": "stdout",
     "output_type": "stream",
     "text": [
      "0.8342658052295099\n"
     ]
    }
   ],
   "source": [
    "accuracy = cm.diagonal().sum()/cm.sum()\n",
    "print(accuracy)"
   ]
  },
  {
   "cell_type": "markdown",
   "metadata": {},
   "source": [
    "## Hyper Parameter Tuning on XGBoost\n",
    "\n",
    "Parameters:\n",
    "\n",
    "* learning_rate : Makes the model more robust by shrinking the weights on each step. Used to prevent overfitting.\n",
    "* max_depth  : Determines how deeply each tree is allowed to grow during any boosting round.Range should be between 3-10. For starting, start from lower values.\n",
    "* min_child_weight : Smaller values are chosen because leaf nodes could have small size groups.\n",
    "* subsample, colsample_bytree  : ideal range is between 0.5 to 0.9. Low value can lead to underfitting\n",
    "* n_estimators: number of trees you want to build.\n",
    "* objective: determines the loss function to be used like reg:linear for regression problems, reg:logistic for classification problems with only decision, binary:logistic for classification problems with probability.\n",
    "\n",
    "Regularization Parameters:\n",
    "* gamma: controls whether a given node will split based on the expected reduction in loss after the split. A higher value leads to fewer splits.\n",
    "* alpha: L1 regularization on leaf weights. A large value leads to more regularization.\n",
    "* lambda: L2 regularization on leaf weights and is smoother than L1 regularization."
   ]
  },
  {
   "cell_type": "markdown",
   "metadata": {},
   "source": [
    "### Bayesian Optimization function for xgboost"
   ]
  },
  {
   "cell_type": "code",
   "execution_count": 66,
   "metadata": {},
   "outputs": [],
   "source": [
    "def tuning_function(n_estimators ,learning_rate):\n",
    "     params = {'n_estimators': int(n_estimators),\n",
    "              'learning_rate':learning_rate,\n",
    "              'subsample': 0.8,\n",
    "              'eta': 0.1,\n",
    "              'eval_metric': 'rmse',\n",
    "             'max_depth':4,\n",
    "             'min_child_weight':6,\n",
    "             'gamma':0,\n",
    "             'subsample':0.8,\n",
    "             'colsample_bytree':0.8,\n",
    "             'reg_alpha':0.005,\n",
    "             'objective': 'logistic',\n",
    "             'nthread':4,\n",
    "             'seed':27,\n",
    "             'eta':0.1}"
   ]
  },
  {
   "cell_type": "code",
   "execution_count": 74,
   "metadata": {},
   "outputs": [],
   "source": [
    "bayes = BayesianOptimization(tuning_function, {'learning_rate':(0,1),\n",
    "                                             'n_estimators':(100,120)\n",
    "                                            })\n"
   ]
  },
  {
   "cell_type": "code",
   "execution_count": 83,
   "metadata": {},
   "outputs": [],
   "source": [
    "#bayes.maximize(n_iter=5, init_points=8, acq='ei')"
   ]
  },
  {
   "cell_type": "markdown",
   "metadata": {},
   "source": [
    "### Extracting the best parameters"
   ]
  },
  {
   "cell_type": "code",
   "execution_count": 77,
   "metadata": {},
   "outputs": [],
   "source": [
    "params = bayes.max['params']\n",
    "params['n_estimators']= int(params['n_estimators'])"
   ]
  },
  {
   "cell_type": "code",
   "execution_count": 78,
   "metadata": {},
   "outputs": [],
   "source": [
    "hyper_model = xgb.XGBClassifier(**params).fit(X_train, y_train)"
   ]
  },
  {
   "cell_type": "code",
   "execution_count": 79,
   "metadata": {},
   "outputs": [],
   "source": [
    "y_pred_HT = hyper_model.predict(X_test)"
   ]
  },
  {
   "cell_type": "markdown",
   "metadata": {},
   "source": [
    "###  Creating the Classification Report"
   ]
  },
  {
   "cell_type": "code",
   "execution_count": 80,
   "metadata": {},
   "outputs": [
    {
     "name": "stdout",
     "output_type": "stream",
     "text": [
      "              precision    recall  f1-score   support\n",
      "\n",
      "           2       0.82      0.81      0.82     34537\n",
      "           3       0.81      0.92      0.86     38655\n",
      "           4       0.96      0.93      0.95     12593\n",
      "           7       0.92      0.50      0.65      3557\n",
      "           8       0.80      0.75      0.77     22237\n",
      "           9       0.90      0.53      0.67      3670\n",
      "          10       0.91      0.92      0.92     32566\n",
      "\n",
      "    accuracy                           0.85    147815\n",
      "   macro avg       0.88      0.77      0.80    147815\n",
      "weighted avg       0.85      0.85      0.85    147815\n",
      "\n"
     ]
    }
   ],
   "source": [
    "from sklearn.metrics import classification_report\n",
    "print(classification_report(y_test,y_pred_HT))"
   ]
  },
  {
   "cell_type": "markdown",
   "metadata": {},
   "source": [
    "###  Creating the confusion Matrix and checking the accuracy"
   ]
  },
  {
   "cell_type": "code",
   "execution_count": 81,
   "metadata": {},
   "outputs": [
    {
     "name": "stdout",
     "output_type": "stream",
     "text": [
      "[[28042  3706   192    13  1639    78   867]\n",
      " [ 1453 35448    37    31  1047    29   610]\n",
      " [  344    90 11735     3   148     4   269]\n",
      " [  543   524    18  1784   376    32   280]\n",
      " [ 2279  2578    45    55 16620    64   596]\n",
      " [  548   527    45    23   286  1942   299]\n",
      " [  865   890   122    28   542     9 30110]]\n"
     ]
    }
   ],
   "source": [
    "cm_hp = confusion_matrix(y_test, y_pred_HT)\n",
    "print(cm_hp)"
   ]
  },
  {
   "cell_type": "code",
   "execution_count": 82,
   "metadata": {},
   "outputs": [
    {
     "name": "stdout",
     "output_type": "stream",
     "text": [
      "0.8502587694077056\n"
     ]
    }
   ],
   "source": [
    "accuracy = cm_hp.diagonal().sum()/cm.sum()\n",
    "print(accuracy)"
   ]
  },
  {
   "cell_type": "markdown",
   "metadata": {},
   "source": [
    "#### From the XG Boost(Acc = 0.8343) and the hyper tunes XGBoost(Acc = 0.8503) accuracies, we can see that the accuracy of the model has increased after hypertuning by 0.2."
   ]
  }
 ],
 "metadata": {
  "kernelspec": {
   "display_name": "Python 3",
   "language": "python",
   "name": "python3"
  },
  "language_info": {
   "codemirror_mode": {
    "name": "ipython",
    "version": 3
   },
   "file_extension": ".py",
   "mimetype": "text/x-python",
   "name": "python",
   "nbconvert_exporter": "python",
   "pygments_lexer": "ipython3",
   "version": "3.7.3"
  }
 },
 "nbformat": 4,
 "nbformat_minor": 2
}
